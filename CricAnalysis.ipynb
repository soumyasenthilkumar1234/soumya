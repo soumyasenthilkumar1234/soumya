{
  "nbformat": 4,
  "nbformat_minor": 0,
  "metadata": {
    "colab": {
      "provenance": [],
      "authorship_tag": "ABX9TyNj+EpQ35rWqCXT9VP+2gxc",
      "include_colab_link": true
    },
    "kernelspec": {
      "name": "python3",
      "display_name": "Python 3"
    },
    "language_info": {
      "name": "python"
    }
  },
  "cells": [
    {
      "cell_type": "markdown",
      "metadata": {
        "id": "view-in-github",
        "colab_type": "text"
      },
      "source": [
        "<a href=\"https://colab.research.google.com/github/soumyasenthilkumar1234/soumya/blob/main/CricAnalysis.ipynb\" target=\"_parent\"><img src=\"https://colab.research.google.com/assets/colab-badge.svg\" alt=\"Open In Colab\"/></a>"
      ]
    },
    {
      "cell_type": "code",
      "source": [
        "import pandas as pd\n",
        "import json"
      ],
      "metadata": {
        "id": "uEvF4X_Sx7Oj"
      },
      "execution_count": null,
      "outputs": []
    },
    {
      "cell_type": "markdown",
      "source": [
        "**Match Summary**"
      ],
      "metadata": {
        "id": "2cfrjiZpx9nQ"
      }
    },
    {
      "cell_type": "code",
      "execution_count": null,
      "metadata": {
        "collapsed": true,
        "id": "nrOWH6YWNmdl"
      },
      "outputs": [],
      "source": [
        "\n",
        "\n",
        "with open('/content/t20_wc_match_results.json', encoding='utf-8-sig') as f:\n",
        "    data = json.load(f)\n",
        "df_match=pd.DataFrame(data[0]['matchSummary'])\n",
        "df_match.head()\n",
        "\n",
        "\n"
      ]
    },
    {
      "cell_type": "code",
      "source": [
        "df_match.rename({'scorecard':'match_id'},axis=1,inplace=True)\n",
        "df_match.head()"
      ],
      "metadata": {
        "id": "Q-ecmKGOrV9V"
      },
      "execution_count": null,
      "outputs": []
    },
    {
      "cell_type": "code",
      "source": [
        "match_id_dict={}\n",
        "\n",
        "for index,row in df_match.iterrows():\n",
        "  key1=row['team1']+' Vs '+row['team2']\n",
        "  key2=row['team2']+' Vs '+row['team1']\n",
        "\n",
        "  match_id_dict[key1]=row['match_id']\n",
        "  match_id_dict[key2]=row['match_id']\n",
        "\n",
        "\n",
        "\n",
        "\n",
        "\n"
      ],
      "metadata": {
        "id": "mj6E8mLhxzOW"
      },
      "execution_count": null,
      "outputs": []
    },
    {
      "cell_type": "markdown",
      "source": [
        "**Batting Summary**"
      ],
      "metadata": {
        "id": "NetfGcN-yXu-"
      }
    },
    {
      "cell_type": "code",
      "source": [
        "with open('/content/t20_wc_batting_summary.json')as f:\n",
        "    data = json.load(f)\n",
        "    all_records=[]\n",
        "    for rec in data:\n",
        "      all_records.extend(rec['battingSummary'])\n",
        "df_batting=pd.DataFrame(all_records)\n",
        "df_batting.head(10)\n",
        "\n"
      ],
      "metadata": {
        "id": "qQDzg9tniLlJ"
      },
      "execution_count": null,
      "outputs": []
    },
    {
      "cell_type": "code",
      "source": [
        "df_batting.drop(columns=[\"dismissal\"], inplace=True)\n",
        "df_batting.head(10)"
      ],
      "metadata": {
        "id": "G6KIyF6g02Xo"
      },
      "execution_count": null,
      "outputs": []
    },
    {
      "cell_type": "code",
      "source": [
        "df_batting['batsmanName']=df_batting['batsmanName'].apply(lambda x:x.replace('â€',''))\n",
        "df_batting['batsmanName']=df_batting['batsmanName'].apply(lambda x:x.replace('\\xa0',''))\n",
        "df_batting.head(10)"
      ],
      "metadata": {
        "id": "kNuzOsa51sEg"
      },
      "execution_count": null,
      "outputs": []
    },
    {
      "cell_type": "code",
      "source": [
        "df_batting['match_id']=df_batting['match'].map(match_id_dict)\n",
        "df_batting.head()"
      ],
      "metadata": {
        "id": "R-gffZgE3KyW"
      },
      "execution_count": null,
      "outputs": []
    },
    {
      "cell_type": "code",
      "source": [
        "df_batting.to_csv('', index=False)"
      ],
      "metadata": {
        "id": "6Pcdlji03k-5"
      },
      "execution_count": null,
      "outputs": []
    }
  ]
}